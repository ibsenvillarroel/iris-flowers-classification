{
  "nbformat": 4,
  "nbformat_minor": 0,
  "metadata": {
    "colab": {
      "name": "Iris_flower_classification.ipynb",
      "provenance": [],
      "authorship_tag": "ABX9TyNga9xhw51HpqEFqA+Hso2m",
      "include_colab_link": true
    },
    "kernelspec": {
      "name": "python3",
      "display_name": "Python 3"
    },
    "language_info": {
      "name": "python"
    }
  },
  "cells": [
    {
      "cell_type": "markdown",
      "metadata": {
        "id": "view-in-github",
        "colab_type": "text"
      },
      "source": [
        "<a href=\"https://colab.research.google.com/github/ibsenvillarroel/iris-flowers-classification/blob/main/Iris_flower_classification.ipynb\" target=\"_parent\"><img src=\"https://colab.research.google.com/assets/colab-badge.svg\" alt=\"Open In Colab\"/></a>"
      ]
    },
    {
      "cell_type": "code",
      "execution_count": 1,
      "metadata": {
        "id": "yZXKcik8bMPC"
      },
      "outputs": [],
      "source": [
        "%tensorflow_version 2.x"
      ]
    },
    {
      "cell_type": "code",
      "source": [
        "from __future__ import absolute_import, division, print_function, unicode_literals\n",
        "\n",
        "import tensorflow as tf\n",
        "\n",
        "import pandas as pd"
      ],
      "metadata": {
        "id": "PBWaGTqkbgkt"
      },
      "execution_count": 2,
      "outputs": []
    },
    {
      "cell_type": "markdown",
      "source": [
        "Dataset\n",
        "\n",
        "This specific dataset separates flowers into 3 different classes of species \n",
        "\n",
        "\n",
        "\n",
        "*  Setosa\n",
        "*  Versicolor\n",
        "*  Virginica\n",
        "\n",
        "The information about this flowers \n",
        "* sepal length \n",
        "* sepal width\n",
        "* petal length \n",
        "* petal width  "
      ],
      "metadata": {
        "id": "3He-KG6RcMAJ"
      }
    },
    {
      "cell_type": "code",
      "source": [
        "CSV_COLUM_NAMES = [\"SepalLength\", \"SepalWidth\", \"PetalLength\", \"PetalWidth\", \"Species\"]\n",
        "SPECIES= [\"Setosa\", \"Versicolor\", \"Virginica\"]\n",
        "\n",
        "#lest define some constants / definimos algunas variables"
      ],
      "metadata": {
        "id": "jto2g81kc3Q5"
      },
      "execution_count": 3,
      "outputs": []
    },
    {
      "cell_type": "code",
      "source": [
        "train_path = tf.keras.utils.get_file(\n",
        "    \"iris_training.csv\", \"https://storage.googleapis.com/download.tensorflow.org/data/iris_training.csv\")\n",
        "test_path = tf.keras.utils.get_file(\n",
        "    \"iris_test.csv\", \"https://storage.googleapis.com/download.tensorflow.org/data/iris_test.csv\")\n",
        "\n",
        "train = pd.read_csv(train_path, names=CSV_COLUM_NAMES, header=0) \n",
        "test = pd.read_csv(test_path, names=CSV_COLUM_NAMES, header=0)\n",
        "\n",
        "#here we use keras (a module inside of tensorflow) to grab our dtatasets and read them into a pandas dataframe "
      ],
      "metadata": {
        "colab": {
          "base_uri": "https://localhost:8080/"
        },
        "id": "XNVsso-SeHeg",
        "outputId": "8904ad11-41b0-4977-a710-424316c3bc8a"
      },
      "execution_count": 4,
      "outputs": [
        {
          "output_type": "stream",
          "name": "stdout",
          "text": [
            "Downloading data from https://storage.googleapis.com/download.tensorflow.org/data/iris_training.csv\n",
            "16384/2194 [================================================================================================================================================================================================================================] - 0s 0us/step\n",
            "Downloading data from https://storage.googleapis.com/download.tensorflow.org/data/iris_test.csv\n",
            "16384/573 [=========================================================================================================================================================================================================================================================================================================================================================================================================================================================================================================================================================================================================================================================================================================================================================================================================================================================================================] - 0s 0us/step\n"
          ]
        }
      ]
    },
    {
      "cell_type": "code",
      "source": [
        "train.head()"
      ],
      "metadata": {
        "colab": {
          "base_uri": "https://localhost:8080/",
          "height": 206
        },
        "id": "X-gNMaAZhJA5",
        "outputId": "ad369abb-2f29-472f-9e4d-7862a7a83e35"
      },
      "execution_count": 5,
      "outputs": [
        {
          "output_type": "execute_result",
          "data": {
            "text/plain": [
              "   SepalLength  SepalWidth  PetalLength  PetalWidth  Species\n",
              "0          6.4         2.8          5.6         2.2        2\n",
              "1          5.0         2.3          3.3         1.0        1\n",
              "2          4.9         2.5          4.5         1.7        2\n",
              "3          4.9         3.1          1.5         0.1        0\n",
              "4          5.7         3.8          1.7         0.3        0"
            ],
            "text/html": [
              "\n",
              "  <div id=\"df-2fa2790f-8b32-44ee-942a-82a758e3d7b8\">\n",
              "    <div class=\"colab-df-container\">\n",
              "      <div>\n",
              "<style scoped>\n",
              "    .dataframe tbody tr th:only-of-type {\n",
              "        vertical-align: middle;\n",
              "    }\n",
              "\n",
              "    .dataframe tbody tr th {\n",
              "        vertical-align: top;\n",
              "    }\n",
              "\n",
              "    .dataframe thead th {\n",
              "        text-align: right;\n",
              "    }\n",
              "</style>\n",
              "<table border=\"1\" class=\"dataframe\">\n",
              "  <thead>\n",
              "    <tr style=\"text-align: right;\">\n",
              "      <th></th>\n",
              "      <th>SepalLength</th>\n",
              "      <th>SepalWidth</th>\n",
              "      <th>PetalLength</th>\n",
              "      <th>PetalWidth</th>\n",
              "      <th>Species</th>\n",
              "    </tr>\n",
              "  </thead>\n",
              "  <tbody>\n",
              "    <tr>\n",
              "      <th>0</th>\n",
              "      <td>6.4</td>\n",
              "      <td>2.8</td>\n",
              "      <td>5.6</td>\n",
              "      <td>2.2</td>\n",
              "      <td>2</td>\n",
              "    </tr>\n",
              "    <tr>\n",
              "      <th>1</th>\n",
              "      <td>5.0</td>\n",
              "      <td>2.3</td>\n",
              "      <td>3.3</td>\n",
              "      <td>1.0</td>\n",
              "      <td>1</td>\n",
              "    </tr>\n",
              "    <tr>\n",
              "      <th>2</th>\n",
              "      <td>4.9</td>\n",
              "      <td>2.5</td>\n",
              "      <td>4.5</td>\n",
              "      <td>1.7</td>\n",
              "      <td>2</td>\n",
              "    </tr>\n",
              "    <tr>\n",
              "      <th>3</th>\n",
              "      <td>4.9</td>\n",
              "      <td>3.1</td>\n",
              "      <td>1.5</td>\n",
              "      <td>0.1</td>\n",
              "      <td>0</td>\n",
              "    </tr>\n",
              "    <tr>\n",
              "      <th>4</th>\n",
              "      <td>5.7</td>\n",
              "      <td>3.8</td>\n",
              "      <td>1.7</td>\n",
              "      <td>0.3</td>\n",
              "      <td>0</td>\n",
              "    </tr>\n",
              "  </tbody>\n",
              "</table>\n",
              "</div>\n",
              "      <button class=\"colab-df-convert\" onclick=\"convertToInteractive('df-2fa2790f-8b32-44ee-942a-82a758e3d7b8')\"\n",
              "              title=\"Convert this dataframe to an interactive table.\"\n",
              "              style=\"display:none;\">\n",
              "        \n",
              "  <svg xmlns=\"http://www.w3.org/2000/svg\" height=\"24px\"viewBox=\"0 0 24 24\"\n",
              "       width=\"24px\">\n",
              "    <path d=\"M0 0h24v24H0V0z\" fill=\"none\"/>\n",
              "    <path d=\"M18.56 5.44l.94 2.06.94-2.06 2.06-.94-2.06-.94-.94-2.06-.94 2.06-2.06.94zm-11 1L8.5 8.5l.94-2.06 2.06-.94-2.06-.94L8.5 2.5l-.94 2.06-2.06.94zm10 10l.94 2.06.94-2.06 2.06-.94-2.06-.94-.94-2.06-.94 2.06-2.06.94z\"/><path d=\"M17.41 7.96l-1.37-1.37c-.4-.4-.92-.59-1.43-.59-.52 0-1.04.2-1.43.59L10.3 9.45l-7.72 7.72c-.78.78-.78 2.05 0 2.83L4 21.41c.39.39.9.59 1.41.59.51 0 1.02-.2 1.41-.59l7.78-7.78 2.81-2.81c.8-.78.8-2.07 0-2.86zM5.41 20L4 18.59l7.72-7.72 1.47 1.35L5.41 20z\"/>\n",
              "  </svg>\n",
              "      </button>\n",
              "      \n",
              "  <style>\n",
              "    .colab-df-container {\n",
              "      display:flex;\n",
              "      flex-wrap:wrap;\n",
              "      gap: 12px;\n",
              "    }\n",
              "\n",
              "    .colab-df-convert {\n",
              "      background-color: #E8F0FE;\n",
              "      border: none;\n",
              "      border-radius: 50%;\n",
              "      cursor: pointer;\n",
              "      display: none;\n",
              "      fill: #1967D2;\n",
              "      height: 32px;\n",
              "      padding: 0 0 0 0;\n",
              "      width: 32px;\n",
              "    }\n",
              "\n",
              "    .colab-df-convert:hover {\n",
              "      background-color: #E2EBFA;\n",
              "      box-shadow: 0px 1px 2px rgba(60, 64, 67, 0.3), 0px 1px 3px 1px rgba(60, 64, 67, 0.15);\n",
              "      fill: #174EA6;\n",
              "    }\n",
              "\n",
              "    [theme=dark] .colab-df-convert {\n",
              "      background-color: #3B4455;\n",
              "      fill: #D2E3FC;\n",
              "    }\n",
              "\n",
              "    [theme=dark] .colab-df-convert:hover {\n",
              "      background-color: #434B5C;\n",
              "      box-shadow: 0px 1px 3px 1px rgba(0, 0, 0, 0.15);\n",
              "      filter: drop-shadow(0px 1px 2px rgba(0, 0, 0, 0.3));\n",
              "      fill: #FFFFFF;\n",
              "    }\n",
              "  </style>\n",
              "\n",
              "      <script>\n",
              "        const buttonEl =\n",
              "          document.querySelector('#df-2fa2790f-8b32-44ee-942a-82a758e3d7b8 button.colab-df-convert');\n",
              "        buttonEl.style.display =\n",
              "          google.colab.kernel.accessAllowed ? 'block' : 'none';\n",
              "\n",
              "        async function convertToInteractive(key) {\n",
              "          const element = document.querySelector('#df-2fa2790f-8b32-44ee-942a-82a758e3d7b8');\n",
              "          const dataTable =\n",
              "            await google.colab.kernel.invokeFunction('convertToInteractive',\n",
              "                                                     [key], {});\n",
              "          if (!dataTable) return;\n",
              "\n",
              "          const docLinkHtml = 'Like what you see? Visit the ' +\n",
              "            '<a target=\"_blank\" href=https://colab.research.google.com/notebooks/data_table.ipynb>data table notebook</a>'\n",
              "            + ' to learn more about interactive tables.';\n",
              "          element.innerHTML = '';\n",
              "          dataTable['output_type'] = 'display_data';\n",
              "          await google.colab.output.renderOutput(dataTable, element);\n",
              "          const docLink = document.createElement('div');\n",
              "          docLink.innerHTML = docLinkHtml;\n",
              "          element.appendChild(docLink);\n",
              "        }\n",
              "      </script>\n",
              "    </div>\n",
              "  </div>\n",
              "  "
            ]
          },
          "metadata": {},
          "execution_count": 5
        }
      ]
    },
    {
      "cell_type": "code",
      "source": [
        "train_y = train.pop(\"Species\")\n",
        "test_y = test.pop(\"Species\")\n",
        "train.head()"
      ],
      "metadata": {
        "colab": {
          "base_uri": "https://localhost:8080/",
          "height": 206
        },
        "id": "aTXCmxc6hLuc",
        "outputId": "02054546-1b78-4467-cbd1-f79d5763b677"
      },
      "execution_count": 6,
      "outputs": [
        {
          "output_type": "execute_result",
          "data": {
            "text/plain": [
              "   SepalLength  SepalWidth  PetalLength  PetalWidth\n",
              "0          6.4         2.8          5.6         2.2\n",
              "1          5.0         2.3          3.3         1.0\n",
              "2          4.9         2.5          4.5         1.7\n",
              "3          4.9         3.1          1.5         0.1\n",
              "4          5.7         3.8          1.7         0.3"
            ],
            "text/html": [
              "\n",
              "  <div id=\"df-508ade10-9083-4e9d-b5cd-e83226e3ce57\">\n",
              "    <div class=\"colab-df-container\">\n",
              "      <div>\n",
              "<style scoped>\n",
              "    .dataframe tbody tr th:only-of-type {\n",
              "        vertical-align: middle;\n",
              "    }\n",
              "\n",
              "    .dataframe tbody tr th {\n",
              "        vertical-align: top;\n",
              "    }\n",
              "\n",
              "    .dataframe thead th {\n",
              "        text-align: right;\n",
              "    }\n",
              "</style>\n",
              "<table border=\"1\" class=\"dataframe\">\n",
              "  <thead>\n",
              "    <tr style=\"text-align: right;\">\n",
              "      <th></th>\n",
              "      <th>SepalLength</th>\n",
              "      <th>SepalWidth</th>\n",
              "      <th>PetalLength</th>\n",
              "      <th>PetalWidth</th>\n",
              "    </tr>\n",
              "  </thead>\n",
              "  <tbody>\n",
              "    <tr>\n",
              "      <th>0</th>\n",
              "      <td>6.4</td>\n",
              "      <td>2.8</td>\n",
              "      <td>5.6</td>\n",
              "      <td>2.2</td>\n",
              "    </tr>\n",
              "    <tr>\n",
              "      <th>1</th>\n",
              "      <td>5.0</td>\n",
              "      <td>2.3</td>\n",
              "      <td>3.3</td>\n",
              "      <td>1.0</td>\n",
              "    </tr>\n",
              "    <tr>\n",
              "      <th>2</th>\n",
              "      <td>4.9</td>\n",
              "      <td>2.5</td>\n",
              "      <td>4.5</td>\n",
              "      <td>1.7</td>\n",
              "    </tr>\n",
              "    <tr>\n",
              "      <th>3</th>\n",
              "      <td>4.9</td>\n",
              "      <td>3.1</td>\n",
              "      <td>1.5</td>\n",
              "      <td>0.1</td>\n",
              "    </tr>\n",
              "    <tr>\n",
              "      <th>4</th>\n",
              "      <td>5.7</td>\n",
              "      <td>3.8</td>\n",
              "      <td>1.7</td>\n",
              "      <td>0.3</td>\n",
              "    </tr>\n",
              "  </tbody>\n",
              "</table>\n",
              "</div>\n",
              "      <button class=\"colab-df-convert\" onclick=\"convertToInteractive('df-508ade10-9083-4e9d-b5cd-e83226e3ce57')\"\n",
              "              title=\"Convert this dataframe to an interactive table.\"\n",
              "              style=\"display:none;\">\n",
              "        \n",
              "  <svg xmlns=\"http://www.w3.org/2000/svg\" height=\"24px\"viewBox=\"0 0 24 24\"\n",
              "       width=\"24px\">\n",
              "    <path d=\"M0 0h24v24H0V0z\" fill=\"none\"/>\n",
              "    <path d=\"M18.56 5.44l.94 2.06.94-2.06 2.06-.94-2.06-.94-.94-2.06-.94 2.06-2.06.94zm-11 1L8.5 8.5l.94-2.06 2.06-.94-2.06-.94L8.5 2.5l-.94 2.06-2.06.94zm10 10l.94 2.06.94-2.06 2.06-.94-2.06-.94-.94-2.06-.94 2.06-2.06.94z\"/><path d=\"M17.41 7.96l-1.37-1.37c-.4-.4-.92-.59-1.43-.59-.52 0-1.04.2-1.43.59L10.3 9.45l-7.72 7.72c-.78.78-.78 2.05 0 2.83L4 21.41c.39.39.9.59 1.41.59.51 0 1.02-.2 1.41-.59l7.78-7.78 2.81-2.81c.8-.78.8-2.07 0-2.86zM5.41 20L4 18.59l7.72-7.72 1.47 1.35L5.41 20z\"/>\n",
              "  </svg>\n",
              "      </button>\n",
              "      \n",
              "  <style>\n",
              "    .colab-df-container {\n",
              "      display:flex;\n",
              "      flex-wrap:wrap;\n",
              "      gap: 12px;\n",
              "    }\n",
              "\n",
              "    .colab-df-convert {\n",
              "      background-color: #E8F0FE;\n",
              "      border: none;\n",
              "      border-radius: 50%;\n",
              "      cursor: pointer;\n",
              "      display: none;\n",
              "      fill: #1967D2;\n",
              "      height: 32px;\n",
              "      padding: 0 0 0 0;\n",
              "      width: 32px;\n",
              "    }\n",
              "\n",
              "    .colab-df-convert:hover {\n",
              "      background-color: #E2EBFA;\n",
              "      box-shadow: 0px 1px 2px rgba(60, 64, 67, 0.3), 0px 1px 3px 1px rgba(60, 64, 67, 0.15);\n",
              "      fill: #174EA6;\n",
              "    }\n",
              "\n",
              "    [theme=dark] .colab-df-convert {\n",
              "      background-color: #3B4455;\n",
              "      fill: #D2E3FC;\n",
              "    }\n",
              "\n",
              "    [theme=dark] .colab-df-convert:hover {\n",
              "      background-color: #434B5C;\n",
              "      box-shadow: 0px 1px 3px 1px rgba(0, 0, 0, 0.15);\n",
              "      filter: drop-shadow(0px 1px 2px rgba(0, 0, 0, 0.3));\n",
              "      fill: #FFFFFF;\n",
              "    }\n",
              "  </style>\n",
              "\n",
              "      <script>\n",
              "        const buttonEl =\n",
              "          document.querySelector('#df-508ade10-9083-4e9d-b5cd-e83226e3ce57 button.colab-df-convert');\n",
              "        buttonEl.style.display =\n",
              "          google.colab.kernel.accessAllowed ? 'block' : 'none';\n",
              "\n",
              "        async function convertToInteractive(key) {\n",
              "          const element = document.querySelector('#df-508ade10-9083-4e9d-b5cd-e83226e3ce57');\n",
              "          const dataTable =\n",
              "            await google.colab.kernel.invokeFunction('convertToInteractive',\n",
              "                                                     [key], {});\n",
              "          if (!dataTable) return;\n",
              "\n",
              "          const docLinkHtml = 'Like what you see? Visit the ' +\n",
              "            '<a target=\"_blank\" href=https://colab.research.google.com/notebooks/data_table.ipynb>data table notebook</a>'\n",
              "            + ' to learn more about interactive tables.';\n",
              "          element.innerHTML = '';\n",
              "          dataTable['output_type'] = 'display_data';\n",
              "          await google.colab.output.renderOutput(dataTable, element);\n",
              "          const docLink = document.createElement('div');\n",
              "          docLink.innerHTML = docLinkHtml;\n",
              "          element.appendChild(docLink);\n",
              "        }\n",
              "      </script>\n",
              "    </div>\n",
              "  </div>\n",
              "  "
            ]
          },
          "metadata": {},
          "execution_count": 6
        }
      ]
    },
    {
      "cell_type": "code",
      "source": [
        "train.shape"
      ],
      "metadata": {
        "colab": {
          "base_uri": "https://localhost:8080/"
        },
        "id": "OH9tuJoQhdKp",
        "outputId": "25b664b2-47e2-4f04-cb3f-37a8fef33e04"
      },
      "execution_count": 7,
      "outputs": [
        {
          "output_type": "execute_result",
          "data": {
            "text/plain": [
              "(120, 4)"
            ]
          },
          "metadata": {},
          "execution_count": 7
        }
      ]
    },
    {
      "cell_type": "code",
      "source": [
        "def input_fn(features, labels, training=True, batch_size=256):\n",
        "  #convert the inputs to a dataset\n",
        "  dataset = tf.data.Dataset.from_tensor_slices((dict(features), labels))\n",
        "\n",
        "  #shuffle and repeat if you are in a training mode\n",
        "  if training:\n",
        "    dataset= dataset.shuffle(1000).repeat()\n",
        "\n",
        "  return dataset.batch(batch_size)   "
      ],
      "metadata": {
        "id": "KYwuOPpLhfVZ"
      },
      "execution_count": 18,
      "outputs": []
    },
    {
      "cell_type": "code",
      "source": [
        "my_feature_columns = []\n",
        "for key in train.keys():\n",
        "  my_feature_columns.append(tf.feature_column.numeric_column(key=key))\n",
        "print(my_feature_columns)"
      ],
      "metadata": {
        "colab": {
          "base_uri": "https://localhost:8080/"
        },
        "id": "XxMIhGDunZNP",
        "outputId": "22a0959d-7feb-4164-daa6-0ee587ce90a1"
      },
      "execution_count": 14,
      "outputs": [
        {
          "output_type": "stream",
          "name": "stdout",
          "text": [
            "[NumericColumn(key='SepalLength', shape=(1,), default_value=None, dtype=tf.float32, normalizer_fn=None), NumericColumn(key='SepalWidth', shape=(1,), default_value=None, dtype=tf.float32, normalizer_fn=None), NumericColumn(key='PetalLength', shape=(1,), default_value=None, dtype=tf.float32, normalizer_fn=None), NumericColumn(key='PetalWidth', shape=(1,), default_value=None, dtype=tf.float32, normalizer_fn=None)]\n"
          ]
        }
      ]
    },
    {
      "cell_type": "markdown",
      "source": [
        "building the model \n",
        "\n",
        "Utilizaremos un modelo de neural network, DNNClassifier"
      ],
      "metadata": {
        "id": "StM1xzc4oJhF"
      }
    },
    {
      "cell_type": "code",
      "source": [
        "classifier = tf.estimator.DNNClassifier(\n",
        "    feature_columns= my_feature_columns,\n",
        "    #two hidden layers of 30 and 10 nodes respectively\n",
        "    hidden_units=[30, 10], \n",
        "    #the model must chose between 3 classes\n",
        "    n_classes=3)"
      ],
      "metadata": {
        "colab": {
          "base_uri": "https://localhost:8080/"
        },
        "id": "7zUKcEjXoLbf",
        "outputId": "cb6e7ea8-0e82-4b22-fbb0-cdddb46f37d1"
      },
      "execution_count": 15,
      "outputs": [
        {
          "output_type": "stream",
          "name": "stdout",
          "text": [
            "INFO:tensorflow:Using default config.\n",
            "WARNING:tensorflow:Using temporary folder as model directory: /tmp/tmp1dcijrwz\n",
            "INFO:tensorflow:Using config: {'_model_dir': '/tmp/tmp1dcijrwz', '_tf_random_seed': None, '_save_summary_steps': 100, '_save_checkpoints_steps': None, '_save_checkpoints_secs': 600, '_session_config': allow_soft_placement: true\n",
            "graph_options {\n",
            "  rewrite_options {\n",
            "    meta_optimizer_iterations: ONE\n",
            "  }\n",
            "}\n",
            ", '_keep_checkpoint_max': 5, '_keep_checkpoint_every_n_hours': 10000, '_log_step_count_steps': 100, '_train_distribute': None, '_device_fn': None, '_protocol': None, '_eval_distribute': None, '_experimental_distribute': None, '_experimental_max_worker_delay_secs': None, '_session_creation_timeout_secs': 7200, '_checkpoint_save_graph_def': True, '_service': None, '_cluster_spec': ClusterSpec({}), '_task_type': 'worker', '_task_id': 0, '_global_id_in_cluster': 0, '_master': '', '_evaluation_master': '', '_is_chief': True, '_num_ps_replicas': 0, '_num_worker_replicas': 1}\n"
          ]
        }
      ]
    },
    {
      "cell_type": "markdown",
      "source": [
        "Training the model "
      ],
      "metadata": {
        "id": "COkx3BAEssi0"
      }
    },
    {
      "cell_type": "code",
      "source": [
        "classifier.train(\n",
        "    input_fn= lambda: input_fn(train, train_y, training=True),\n",
        "    steps = 5000) #lambda lo q hace es devolvernos una funcion como un objeto funcion "
      ],
      "metadata": {
        "colab": {
          "base_uri": "https://localhost:8080/"
        },
        "id": "YtDMqxa8swSb",
        "outputId": "3631adfc-999b-47b2-d8a5-a97c0eeddd2c"
      },
      "execution_count": 19,
      "outputs": [
        {
          "output_type": "stream",
          "name": "stdout",
          "text": [
            "INFO:tensorflow:Calling model_fn.\n",
            "INFO:tensorflow:Done calling model_fn.\n",
            "INFO:tensorflow:Create CheckpointSaverHook.\n",
            "INFO:tensorflow:Graph was finalized.\n",
            "INFO:tensorflow:Running local_init_op.\n",
            "INFO:tensorflow:Done running local_init_op.\n",
            "INFO:tensorflow:Calling checkpoint listeners before saving checkpoint 0...\n",
            "INFO:tensorflow:Saving checkpoints for 0 into /tmp/tmp1dcijrwz/model.ckpt.\n",
            "INFO:tensorflow:Calling checkpoint listeners after saving checkpoint 0...\n",
            "INFO:tensorflow:loss = 1.0044935, step = 0\n",
            "INFO:tensorflow:global_step/sec: 400.108\n",
            "INFO:tensorflow:loss = 0.9117144, step = 100 (0.255 sec)\n",
            "INFO:tensorflow:global_step/sec: 509.451\n",
            "INFO:tensorflow:loss = 0.86437607, step = 200 (0.197 sec)\n",
            "INFO:tensorflow:global_step/sec: 467.625\n",
            "INFO:tensorflow:loss = 0.8296948, step = 300 (0.212 sec)\n",
            "INFO:tensorflow:global_step/sec: 509.071\n",
            "INFO:tensorflow:loss = 0.73262596, step = 400 (0.198 sec)\n",
            "INFO:tensorflow:global_step/sec: 501.676\n",
            "INFO:tensorflow:loss = 0.68743813, step = 500 (0.198 sec)\n",
            "INFO:tensorflow:global_step/sec: 499.813\n",
            "INFO:tensorflow:loss = 0.65571433, step = 600 (0.200 sec)\n",
            "INFO:tensorflow:global_step/sec: 506.394\n",
            "INFO:tensorflow:loss = 0.6476138, step = 700 (0.198 sec)\n",
            "INFO:tensorflow:global_step/sec: 472.594\n",
            "INFO:tensorflow:loss = 0.62501174, step = 800 (0.212 sec)\n",
            "INFO:tensorflow:global_step/sec: 264.241\n",
            "INFO:tensorflow:loss = 0.5968515, step = 900 (0.379 sec)\n",
            "INFO:tensorflow:global_step/sec: 240.518\n",
            "INFO:tensorflow:loss = 0.58372015, step = 1000 (0.415 sec)\n",
            "INFO:tensorflow:global_step/sec: 195.438\n",
            "INFO:tensorflow:loss = 0.5734347, step = 1100 (0.513 sec)\n",
            "INFO:tensorflow:global_step/sec: 167.533\n",
            "INFO:tensorflow:loss = 0.55650336, step = 1200 (0.593 sec)\n",
            "INFO:tensorflow:global_step/sec: 226.715\n",
            "INFO:tensorflow:loss = 0.5508328, step = 1300 (0.441 sec)\n",
            "INFO:tensorflow:global_step/sec: 161.743\n",
            "INFO:tensorflow:loss = 0.5416932, step = 1400 (0.622 sec)\n",
            "INFO:tensorflow:global_step/sec: 372.033\n",
            "INFO:tensorflow:loss = 0.52486265, step = 1500 (0.265 sec)\n",
            "INFO:tensorflow:global_step/sec: 448.065\n",
            "INFO:tensorflow:loss = 0.5205766, step = 1600 (0.223 sec)\n",
            "INFO:tensorflow:global_step/sec: 384.641\n",
            "INFO:tensorflow:loss = 0.50973845, step = 1700 (0.260 sec)\n",
            "INFO:tensorflow:global_step/sec: 416.049\n",
            "INFO:tensorflow:loss = 0.49952567, step = 1800 (0.240 sec)\n",
            "INFO:tensorflow:global_step/sec: 386.903\n",
            "INFO:tensorflow:loss = 0.4825228, step = 1900 (0.261 sec)\n",
            "INFO:tensorflow:global_step/sec: 502.329\n",
            "INFO:tensorflow:loss = 0.4804486, step = 2000 (0.196 sec)\n",
            "INFO:tensorflow:global_step/sec: 490.535\n",
            "INFO:tensorflow:loss = 0.4790352, step = 2100 (0.207 sec)\n",
            "INFO:tensorflow:global_step/sec: 488.928\n",
            "INFO:tensorflow:loss = 0.47510654, step = 2200 (0.204 sec)\n",
            "INFO:tensorflow:global_step/sec: 507.087\n",
            "INFO:tensorflow:loss = 0.4631214, step = 2300 (0.200 sec)\n",
            "INFO:tensorflow:global_step/sec: 405.781\n",
            "INFO:tensorflow:loss = 0.46188733, step = 2400 (0.247 sec)\n",
            "INFO:tensorflow:global_step/sec: 403.091\n",
            "INFO:tensorflow:loss = 0.43692684, step = 2500 (0.243 sec)\n",
            "INFO:tensorflow:global_step/sec: 460.19\n",
            "INFO:tensorflow:loss = 0.44626868, step = 2600 (0.221 sec)\n",
            "INFO:tensorflow:global_step/sec: 367.106\n",
            "INFO:tensorflow:loss = 0.4449742, step = 2700 (0.269 sec)\n",
            "INFO:tensorflow:global_step/sec: 402.177\n",
            "INFO:tensorflow:loss = 0.44185185, step = 2800 (0.252 sec)\n",
            "INFO:tensorflow:global_step/sec: 425.346\n",
            "INFO:tensorflow:loss = 0.43779504, step = 2900 (0.234 sec)\n",
            "INFO:tensorflow:global_step/sec: 483.924\n",
            "INFO:tensorflow:loss = 0.42866665, step = 3000 (0.207 sec)\n",
            "INFO:tensorflow:global_step/sec: 441.641\n",
            "INFO:tensorflow:loss = 0.41361797, step = 3100 (0.225 sec)\n",
            "INFO:tensorflow:global_step/sec: 416.954\n",
            "INFO:tensorflow:loss = 0.43019706, step = 3200 (0.242 sec)\n",
            "INFO:tensorflow:global_step/sec: 431.188\n",
            "INFO:tensorflow:loss = 0.41807204, step = 3300 (0.227 sec)\n",
            "INFO:tensorflow:global_step/sec: 498.405\n",
            "INFO:tensorflow:loss = 0.41178507, step = 3400 (0.201 sec)\n",
            "INFO:tensorflow:global_step/sec: 508.46\n",
            "INFO:tensorflow:loss = 0.40173534, step = 3500 (0.200 sec)\n",
            "INFO:tensorflow:global_step/sec: 502.656\n",
            "INFO:tensorflow:loss = 0.40679342, step = 3600 (0.195 sec)\n",
            "INFO:tensorflow:global_step/sec: 486.433\n",
            "INFO:tensorflow:loss = 0.40800542, step = 3700 (0.206 sec)\n",
            "INFO:tensorflow:global_step/sec: 494.425\n",
            "INFO:tensorflow:loss = 0.39008152, step = 3800 (0.202 sec)\n",
            "INFO:tensorflow:global_step/sec: 497.943\n",
            "INFO:tensorflow:loss = 0.38899934, step = 3900 (0.204 sec)\n",
            "INFO:tensorflow:global_step/sec: 515.998\n",
            "INFO:tensorflow:loss = 0.38772142, step = 4000 (0.191 sec)\n",
            "INFO:tensorflow:global_step/sec: 476.539\n",
            "INFO:tensorflow:loss = 0.37695265, step = 4100 (0.212 sec)\n",
            "INFO:tensorflow:global_step/sec: 432.323\n",
            "INFO:tensorflow:loss = 0.37784415, step = 4200 (0.232 sec)\n",
            "INFO:tensorflow:global_step/sec: 413.983\n",
            "INFO:tensorflow:loss = 0.37142515, step = 4300 (0.242 sec)\n",
            "INFO:tensorflow:global_step/sec: 450.697\n",
            "INFO:tensorflow:loss = 0.37819672, step = 4400 (0.219 sec)\n",
            "INFO:tensorflow:global_step/sec: 409.873\n",
            "INFO:tensorflow:loss = 0.36977658, step = 4500 (0.247 sec)\n",
            "INFO:tensorflow:global_step/sec: 397.022\n",
            "INFO:tensorflow:loss = 0.35662064, step = 4600 (0.252 sec)\n",
            "INFO:tensorflow:global_step/sec: 448.991\n",
            "INFO:tensorflow:loss = 0.36489996, step = 4700 (0.219 sec)\n",
            "INFO:tensorflow:global_step/sec: 425.092\n",
            "INFO:tensorflow:loss = 0.3551557, step = 4800 (0.239 sec)\n",
            "INFO:tensorflow:global_step/sec: 469.672\n",
            "INFO:tensorflow:loss = 0.3485133, step = 4900 (0.209 sec)\n",
            "INFO:tensorflow:Calling checkpoint listeners before saving checkpoint 5000...\n",
            "INFO:tensorflow:Saving checkpoints for 5000 into /tmp/tmp1dcijrwz/model.ckpt.\n",
            "INFO:tensorflow:Calling checkpoint listeners after saving checkpoint 5000...\n",
            "INFO:tensorflow:Loss for final step: 0.3600775.\n"
          ]
        },
        {
          "output_type": "execute_result",
          "data": {
            "text/plain": [
              "<tensorflow_estimator.python.estimator.canned.dnn.DNNClassifierV2 at 0x7f479f259110>"
            ]
          },
          "metadata": {},
          "execution_count": 19
        }
      ]
    },
    {
      "cell_type": "code",
      "source": [
        "eval_result = classifier.evaluate(input_fn= lambda: input_fn(test, test_y, training=False))\n",
        "print('\\nTest set accuracy: {accuracy:0.3f}\\n'.format(**eval_result))"
      ],
      "metadata": {
        "colab": {
          "base_uri": "https://localhost:8080/"
        },
        "id": "0bbGMfJ1x_nT",
        "outputId": "1fc2fd11-688d-49f2-8644-30f567a6a362"
      },
      "execution_count": 20,
      "outputs": [
        {
          "output_type": "stream",
          "name": "stdout",
          "text": [
            "INFO:tensorflow:Calling model_fn.\n",
            "INFO:tensorflow:Done calling model_fn.\n",
            "INFO:tensorflow:Starting evaluation at 2022-04-19T03:51:44\n",
            "INFO:tensorflow:Graph was finalized.\n",
            "INFO:tensorflow:Restoring parameters from /tmp/tmp1dcijrwz/model.ckpt-5000\n",
            "INFO:tensorflow:Running local_init_op.\n",
            "INFO:tensorflow:Done running local_init_op.\n",
            "INFO:tensorflow:Inference Time : 0.31971s\n",
            "INFO:tensorflow:Finished evaluation at 2022-04-19-03:51:45\n",
            "INFO:tensorflow:Saving dict for global step 5000: accuracy = 0.96666664, average_loss = 0.41205865, global_step = 5000, loss = 0.41205865\n",
            "INFO:tensorflow:Saving 'checkpoint_path' summary for global step 5000: /tmp/tmp1dcijrwz/model.ckpt-5000\n",
            "\n",
            "Test set accuracy: 0.967\n",
            "\n"
          ]
        }
      ]
    },
    {
      "cell_type": "markdown",
      "source": [
        "Predictions\n",
        "\n",
        "Hacemos una funcion que nos pide valores de entrada de una flor y segun eso predecimos que tipo de flor es "
      ],
      "metadata": {
        "id": "JkvOyqWQ0-Gf"
      }
    },
    {
      "cell_type": "code",
      "source": [
        "def input_fn(features, batch_size=256):\n",
        "    # Convert the inputs to a Dataset without labels.\n",
        "    return tf.data.Dataset.from_tensor_slices(dict(features)).batch(batch_size)\n",
        "\n",
        "features = ['SepalLength', 'SepalWidth', 'PetalLength', 'PetalWidth']\n",
        "predict = {}\n",
        "\n",
        "print(\"Please type numeric values as prompted.\")\n",
        "for feature in features:\n",
        "  valid = True\n",
        "  while valid: \n",
        "    val = input(feature + \": \")\n",
        "    if not val.isdigit(): valid = False\n",
        "\n",
        "  predict[feature] = [float(val)]\n",
        "\n",
        "predictions = classifier.predict(input_fn=lambda: input_fn(predict))\n",
        "for pred_dict in predictions:\n",
        "    print(pred_dict) #con esto veo todas las probabilidades\n",
        "    class_id = pred_dict['class_ids'][0]\n",
        "    probability = pred_dict['probabilities'][class_id]\n",
        "\n",
        "    print('Prediction is \"{}\" ({:.1f}%)'.format(\n",
        "        SPECIES[class_id], 100 * probability))\n"
      ],
      "metadata": {
        "colab": {
          "base_uri": "https://localhost:8080/"
        },
        "id": "8UBGlh7h9Ijd",
        "outputId": "abb5be89-b164-45f3-f88d-21e8c04282c6"
      },
      "execution_count": 23,
      "outputs": [
        {
          "output_type": "stream",
          "name": "stdout",
          "text": [
            "Please type numeric values as prompted.\n",
            "SepalLength: 0.1\n",
            "SepalWidth: 0.2\n",
            "PetalLength: 0.3\n",
            "PetalWidth: 0.4\n",
            "INFO:tensorflow:Calling model_fn.\n",
            "INFO:tensorflow:Done calling model_fn.\n",
            "INFO:tensorflow:Graph was finalized.\n",
            "INFO:tensorflow:Restoring parameters from /tmp/tmp1dcijrwz/model.ckpt-5000\n",
            "INFO:tensorflow:Running local_init_op.\n",
            "INFO:tensorflow:Done running local_init_op.\n",
            "{'logits': array([ 0.02987338,  0.17827281, -0.20198925], dtype=float32), 'probabilities': array([0.3386351 , 0.39280862, 0.26855627], dtype=float32), 'class_ids': array([1]), 'classes': array([b'1'], dtype=object), 'all_class_ids': array([0, 1, 2], dtype=int32), 'all_classes': array([b'0', b'1', b'2'], dtype=object)}\n",
            "Prediction is \"Versicolor\" (39.3%)\n"
          ]
        }
      ]
    }
  ]
}